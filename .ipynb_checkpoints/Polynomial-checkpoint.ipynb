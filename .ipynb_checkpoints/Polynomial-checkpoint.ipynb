{
 "cells": [
  {
   "cell_type": "code",
   "execution_count": 1,
   "metadata": {},
   "outputs": [],
   "source": [
    "import re\n",
    "import os\n",
    "import sys\n",
    "import math\n",
    "import random\n",
    "import csv\n",
    "import time\n",
    "import numpy as np\n",
    "from collections import Counter\n",
    "import matplotlib.pyplot as plt\n",
    "%matplotlib inline\n",
    "from matplotlib.pyplot import figure\n",
    "\n"
   ]
  },
  {
   "cell_type": "code",
   "execution_count": 35,
   "metadata": {},
   "outputs": [],
   "source": [
    "train_data = []\n",
    "with open('pp4data/train-crime.csv', 'r') as csvfile:\n",
    "    # creating a csv reader object\n",
    "    csvreader = csv.reader(csvfile)\n",
    "    \n",
    "    \n",
    "    # extracting each data row one by one\n",
    "    for row in csvreader:\n",
    "        train_data.append(row)\n",
    "\n",
    "train_label = []\n",
    "with open('pp4data/trainR-crime.csv', 'r') as csvfile:\n",
    "    # creating a csv reader object\n",
    "    csvreader = csv.reader(csvfile)\n",
    "    \n",
    "    \n",
    "    # extracting each data row one by one\n",
    "    for row in csvreader:\n",
    "        train_label.append(row)\n",
    "        \n",
    "test_data = []\n",
    "with open('pp4data/test-crime.csv', 'r') as csvfile:\n",
    "    # creating a csv reader object\n",
    "    csvreader = csv.reader(csvfile)\n",
    "    \n",
    "    \n",
    "    # extracting each data row one by one\n",
    "    for row in csvreader:\n",
    "        test_data.append(row)\n",
    "\n",
    "test_label = []\n",
    "with open('pp4data/testR-crime.csv', 'r') as csvfile:\n",
    "    # creating a csv reader object\n",
    "    csvreader = csv.reader(csvfile)\n",
    "    \n",
    "    \n",
    "    # extracting each data row one by one\n",
    "    for row in csvreader:\n",
    "        test_label.append(row)\n",
    "\n",
    "number_of_features = len(train_data[1])\n",
    "number_of_examples = len(train_data)\n",
    "\n",
    "train_data_array = np.array(train_data,dtype=float)\n",
    "train_label_array = np.array(train_label,dtype=float)\n",
    "\n",
    "test_data_array = np.array(test_data,dtype=float)\n",
    "test_label_array = np.array(test_label,dtype=float)\n",
    "\n",
    "identity_matrix = np.identity(number_of_features)\n",
    "phi = np.array(train_data,dtype=float)\n",
    "t = np.array(train_label,dtype=float)"
   ]
  },
  {
   "cell_type": "code",
   "execution_count": 36,
   "metadata": {},
   "outputs": [
    {
     "name": "stdout",
     "output_type": "stream",
     "text": [
      "[[-388.55736071]]\n",
      "[[-337.54774354]]\n",
      "[[0.1312795]]\n",
      "1.555769330995204\n",
      "3.5070137598388835\n",
      "[[-337.54774354]]\n",
      "[[-763.42082194]]\n",
      "[[-1.26166768]]\n",
      "2.5107129373410992\n",
      "19.514658565315788\n",
      "[1.555769330995204, 2.5107129373410992] [3.5070137598388835, 19.514658565315788] 2\n",
      "2.5107129373410992\n",
      "19.514658565315788\n"
     ]
    }
   ],
   "source": [
    "alpha = 1\n",
    "beta = 1\n",
    "eta = 0.01\n",
    "iterations = 1\n",
    "c=0\n",
    "N = number_of_examples\n",
    "k_poly = (np.dot(phi,phi.T)+1)**1\n",
    "alphaa = []\n",
    "betaa = []\n",
    "for i in range(0,101):\n",
    "    \n",
    "    c_x_x = (np.identity(N)/beta) + (k_poly/alpha)\n",
    "    log_ev= -((0.5*N)*np.log(np.pi)) - ( (0.5)*np.log(np.linalg.det(c_x_x)) ) - ((0.5)*(np.dot(np.dot(t.T,np.linalg.inv(c_x_x)),t)))\n",
    "    old = log_ev\n",
    "    print(old)\n",
    "    \n",
    "    \n",
    "    alpha_ln = np.log(alpha)\n",
    "    d_log_ev_by_d_a_alpha = -0.5*(np.trace(np.dot(np.linalg.inv(c_x_x), (-1) * k_poly/alpha**2)) + 0.5*( np.dot(np.dot(np.dot(np.dot(t.T,np.linalg.inv(c_x_x)),(-1)* k_poly/alpha**2),np.linalg.inv(c_x_x)),t)))*alpha\n",
    "    alpha_ln = alpha_ln + eta* d_log_ev_by_d_a_alpha\n",
    "    alpha = math.exp(alpha_ln)\n",
    "\n",
    "    beta_ln = np.log(beta)\n",
    "    d_log_ev_by_d_a_beta = -0.5*(np.trace(np.dot(np.linalg.inv(c_x_x), (-1)* np.identity(N)/beta**2)) + 0.5*( np.dot(np.dot(np.dot(np.dot(t.T,np.linalg.inv(c_x_x)),(-1)* np.identity(N)/beta**2),np.linalg.inv(c_x_x)),t)))*beta\n",
    "    beta_ln = beta_ln + eta* d_log_ev_by_d_a_beta\n",
    "    beta = math.exp(beta_ln)\n",
    "\n",
    "    c_x_x = (np.identity(N)/beta) + (k_poly/alpha)\n",
    "    log_ev= -((0.5*N)*np.log(np.pi)) - ( (0.5)*np.log(np.linalg.det(c_x_x)) ) - ((0.5)*(np.dot(np.dot(t.T,np.linalg.inv(c_x_x)),t)))\n",
    "    new = log_ev\n",
    "    print(new)\n",
    "    c = (new-old)/abs(old)\n",
    "    old = log_ev\n",
    "    print(c)\n",
    "    print(alpha)\n",
    "    print(beta)\n",
    "    alphaa.append(alpha)\n",
    "    betaa.append(beta)\n",
    "    if c< 10**(-5):\n",
    "        break\n",
    "    iterations = iterations + 1\n",
    "print(alphaa,betaa,iterations)\n",
    "alpha = alphaa[iterations-1]\n",
    "beta = betaa[iterations-1]\n",
    "print(alpha)\n",
    "print(beta)"
   ]
  },
  {
   "cell_type": "code",
   "execution_count": null,
   "metadata": {},
   "outputs": [],
   "source": []
  },
  {
   "cell_type": "code",
   "execution_count": 21,
   "metadata": {},
   "outputs": [],
   "source": [
    "def c_value(test1,test2):\n",
    "    N = len(test1)\n",
    "    k_poly = (np.dot(test1,test2.T)+1)**1\n",
    "    c_x_x = (np.identity(N)/beta) + (k_poly/alpha)\n",
    "    return c_x_x\n",
    "\n",
    "c = c_value(test_data_array,test_data_array)\n",
    "#print(c_x_x.shape)\n",
    "# print(test_data_array.shape)\n",
    "# print(test_data_array[0].shape)"
   ]
  },
  {
   "cell_type": "code",
   "execution_count": 38,
   "metadata": {},
   "outputs": [
    {
     "data": {
      "text/plain": [
       "(1, 1)"
      ]
     },
     "execution_count": 38,
     "metadata": {},
     "output_type": "execute_result"
    }
   ],
   "source": [
    "c.shape"
   ]
  },
  {
   "cell_type": "code",
   "execution_count": 28,
   "metadata": {},
   "outputs": [
    {
     "name": "stdout",
     "output_type": "stream",
     "text": [
      "(30, 1, 1)\n"
     ]
    }
   ],
   "source": [
    "\n",
    "v_t =  []\n",
    "for i in range(len(phi)):\n",
    "    v_t.append(c_value(phi[i],test_data_array[0]))\n",
    "    #v_t.append(c_value(phi[2],test_data_array[0]))\n",
    "\n",
    "v_t_array = np.array(v_t,dtype=float)\n",
    "print(v_t_array.shape)"
   ]
  },
  {
   "cell_type": "code",
   "execution_count": 25,
   "metadata": {},
   "outputs": [],
   "source": [
    "N = number_of_examples\n",
    "k_poly = (np.dot(phi,phi.T)+1)**1\n",
    "c_x_x = (np.identity(N)/beta) + (k_poly/alpha)"
   ]
  },
  {
   "cell_type": "code",
   "execution_count": 26,
   "metadata": {},
   "outputs": [
    {
     "data": {
      "text/plain": [
       "(30, 30)"
      ]
     },
     "execution_count": 26,
     "metadata": {},
     "output_type": "execute_result"
    }
   ],
   "source": [
    "c_x_x.shape"
   ]
  },
  {
   "cell_type": "code",
   "execution_count": 31,
   "metadata": {},
   "outputs": [],
   "source": [
    "meann = np.dot(np.dot(np.transpose(v_t_array),np.linalg.inv(c_x_x)),t)"
   ]
  },
  {
   "cell_type": "code",
   "execution_count": 19,
   "metadata": {},
   "outputs": [],
   "source": [
    "covar = np.dot(np.dot(v_t_array,np.linalg.inv(c_x_x)),v_t_array.T)"
   ]
  },
  {
   "cell_type": "code",
   "execution_count": 22,
   "metadata": {},
   "outputs": [],
   "source": [
    "covar = c - covar"
   ]
  },
  {
   "cell_type": "code",
   "execution_count": 33,
   "metadata": {},
   "outputs": [
    {
     "data": {
      "text/plain": [
       "array([[[1.23418538]]])"
      ]
     },
     "execution_count": 33,
     "metadata": {},
     "output_type": "execute_result"
    }
   ],
   "source": [
    "meann"
   ]
  },
  {
   "cell_type": "code",
   "execution_count": 45,
   "metadata": {},
   "outputs": [
    {
     "name": "stdout",
     "output_type": "stream",
     "text": [
      "8\n",
      "11\n"
     ]
    }
   ],
   "source": [
    "arr = [1,2,3,4,5,6,7,9,10]\n",
    "for i in range(len(arr),-1,-1):\n",
    "    #print(i)\n",
    "    if arr[i-1] != arr[i-2]+1:\n",
    "        print (arr[i-2]+1)\n",
    "        break\n",
    "print (arr[-1]+1)"
   ]
  },
  {
   "cell_type": "code",
   "execution_count": null,
   "metadata": {},
   "outputs": [],
   "source": [
    "for i in range(len(arr),0,-1):\n",
    "        if arr[i-1] != arr[i-2]+1:\n",
    "            return (ar"
   ]
  }
 ],
 "metadata": {
  "kernelspec": {
   "display_name": "Python 3",
   "language": "python",
   "name": "python3"
  },
  "language_info": {
   "codemirror_mode": {
    "name": "ipython",
    "version": 3
   },
   "file_extension": ".py",
   "mimetype": "text/x-python",
   "name": "python",
   "nbconvert_exporter": "python",
   "pygments_lexer": "ipython3",
   "version": "3.8.8"
  }
 },
 "nbformat": 4,
 "nbformat_minor": 2
}
