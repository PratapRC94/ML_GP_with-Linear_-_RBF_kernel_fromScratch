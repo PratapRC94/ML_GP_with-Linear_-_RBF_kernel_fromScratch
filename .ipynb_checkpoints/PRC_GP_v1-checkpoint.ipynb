{
 "cells": [
  {
   "cell_type": "code",
   "execution_count": 1,
   "id": "d2b2bfa9",
   "metadata": {},
   "outputs": [],
   "source": [
    "import re\n",
    "import os\n",
    "import sys\n",
    "import math\n",
    "import random\n",
    "import csv\n",
    "import time\n",
    "import numpy as np\n",
    "from collections import Counter\n",
    "import matplotlib.pyplot as plt\n",
    "%matplotlib inline\n",
    "from matplotlib.pyplot import figure"
   ]
  },
  {
   "cell_type": "code",
   "execution_count": 321,
   "id": "853ac69b",
   "metadata": {},
   "outputs": [],
   "source": [
    "def read_files(file_name):\n",
    "    data = []\n",
    "    with open('pp4data/' + file_name, 'r') as f:\n",
    "        # creating a csv reader object\n",
    "        f_csv = csv.reader(f)\n",
    "        # extracting each data row one by one\n",
    "        for row in f_csv:\n",
    "            data.append(row)\n",
    "    return data"
   ]
  },
  {
   "cell_type": "code",
   "execution_count": 456,
   "id": "e4715103",
   "metadata": {},
   "outputs": [
    {
     "name": "stdout",
     "output_type": "stream",
     "text": [
      ">>>>> Enter 1 for housing\n",
      ">>>>> Enter 2 for artsmall\n",
      ">>>>> Enter 3 for crime\n",
      ">>>>> Enter 4 for 1D\n",
      "4\n",
      "\n",
      "\t============ Processing the data file : 1D ============\n",
      "\n",
      "TRAINING SET :  (30, 1) (30, 1)\n",
      "TESTING SET :  (60, 1) (60, 1)\n",
      "\n",
      "Training data size : 30\n",
      "Training feature size : 1\n",
      "\n"
     ]
    }
   ],
   "source": [
    "files = os.listdir('pp4data')\n",
    "datasets=[]\n",
    "for i in files:\n",
    "    datasets.append(i.split('-')[1].split('.')[0])\n",
    "unique_files = list(set(datasets))\n",
    "\n",
    "for i in range(len(unique_files)):\n",
    "    print(\">>>>> Enter %d for %s\"%((i+1),unique_files[i]))\n",
    "inp = unique_files[int(input())-1]\n",
    "print(\"\\n\\t============ Processing the data file : %s ============\\n\"%inp)\n",
    "\n",
    "train_set = read_files('train-'+inp+'.csv')\n",
    "train_label = read_files('trainR-'+inp+'.csv')\n",
    "print(\"TRAINING SET : \",(len(train_set),len(train_set[0])),(len(train_label),len(train_label[0])))\n",
    "test_set = read_files('test-'+inp+'.csv')\n",
    "test_label = read_files('testR-'+inp+'.csv')\n",
    "print(\"TESTING SET : \",(len(test_set),len(test_set[0])),(len(test_label),len(test_label[0])))\n",
    "\n",
    "train_features = len(train_set[0])\n",
    "train_size = len(train_set)\n",
    "print(\"\\nTraining data size : %s\\nTraining feature size : %s\\n\"%(train_size,train_features))\n",
    "\n",
    "\n",
    "I = np.identity(train_size)\n",
    "phi_train = np.array(train_set,dtype=float)\n",
    "t_train = np.array(train_label,dtype=float)\n",
    "phi_test = np.array(test_set,dtype=float)\n",
    "t_test = np.array(test_label,dtype=float)"
   ]
  },
  {
   "cell_type": "code",
   "execution_count": 136,
   "id": "d1012a4d",
   "metadata": {},
   "outputs": [
    {
     "data": {
      "text/plain": [
       "array([[-491.83629061]])"
      ]
     },
     "execution_count": 136,
     "metadata": {},
     "output_type": "execute_result"
    }
   ],
   "source": [
    "log_Ev_before = -(0.5*N*np.log(2*np.pi)) - 0.5*(np.log(np.linalg.det(C_N))) - 0.5*(np.dot(np.dot(t_train.T,np.linalg.inv(C_N)),t_train))\n",
    "log_Ev_before"
   ]
  },
  {
   "cell_type": "code",
   "execution_count": 108,
   "id": "38f0b0bd",
   "metadata": {},
   "outputs": [
    {
     "data": {
      "text/plain": [
       "array([[-3.32780431]])"
      ]
     },
     "execution_count": 108,
     "metadata": {},
     "output_type": "execute_result"
    }
   ],
   "source": [
    "np.dot(np.dot(np.dot(np.dot(t_train.T,np.linalg.inv(C_N)),del_C_N_by_del_alpha),np.linalg.inv(C_N)),t_train)"
   ]
  },
  {
   "cell_type": "code",
   "execution_count": 109,
   "id": "5e10289b",
   "metadata": {},
   "outputs": [
    {
     "data": {
      "text/plain": [
       "array([[41.70116376]])"
      ]
     },
     "execution_count": 109,
     "metadata": {},
     "output_type": "execute_result"
    }
   ],
   "source": [
    "(-1)*np.trace(np.dot(np.linalg.inv(C_N),del_C_N_by_del_alpha))/2 + (1/2)*(np.dot(np.dot(np.dot(np.dot(t_train.T,np.linalg.inv(C_N)),del_C_N_by_del_alpha),np.linalg.inv(C_N)),t_train))"
   ]
  },
  {
   "cell_type": "code",
   "execution_count": 110,
   "id": "c5865321",
   "metadata": {},
   "outputs": [
    {
     "data": {
      "text/plain": [
       "(1, 1)"
      ]
     },
     "execution_count": 110,
     "metadata": {},
     "output_type": "execute_result"
    }
   ],
   "source": [
    "del_log_Ev_by_del_a = -0.5*(np.trace(np.dot(np.linalg.inv(C_N),del_C_N_by_del_alpha))) + 0.5*(np.dot(np.dot(np.dot(np.dot(t_train.T,np.linalg.inv(C_N)),del_C_N_by_del_alpha),np.linalg.inv(C_N)),t_train))\n",
    "del_log_Ev_by_del_a.shape"
   ]
  },
  {
   "cell_type": "code",
   "execution_count": 111,
   "id": "89f5c2a2",
   "metadata": {},
   "outputs": [
    {
     "data": {
      "text/plain": [
       "(298, 298)"
      ]
     },
     "execution_count": 111,
     "metadata": {},
     "output_type": "execute_result"
    }
   ],
   "source": [
    "del_C_N_by_del_alpha.shape"
   ]
  },
  {
   "cell_type": "code",
   "execution_count": 457,
   "id": "fe58dce0",
   "metadata": {},
   "outputs": [],
   "source": [
    "kernel='linear'"
   ]
  },
  {
   "cell_type": "code",
   "execution_count": 458,
   "id": "46ca47da",
   "metadata": {},
   "outputs": [],
   "source": [
    "def get_RBF_Kernel(phi1,phi2,s):\n",
    "    \n",
    "    K = np.zeros([len(phi1),len(phi2)])\n",
    "    for i in range(len(phi1)):\n",
    "        for j in range(len(phi2)):\n",
    "            K[i,j] = np.exp(-0.5*(np.linalg.norm(phi1[i]-phi2[j])**2)/(s**2))\n",
    "    return(K)"
   ]
  },
  {
   "cell_type": "code",
   "execution_count": 459,
   "id": "2bb07896",
   "metadata": {},
   "outputs": [
    {
     "name": "stdout",
     "output_type": "stream",
     "text": [
      "100\n",
      "2.3836990764543935 2.3836990764543935\n",
      "1.926161713110879 1.926161713110879\n",
      "Finalized Alpha parameter :  2.3836990764543935\n",
      "Finalized Beta parameter :  1.926161713110879\n"
     ]
    }
   ],
   "source": [
    "#def_GP_Optimization():\n",
    "\n",
    "alpha = 1\n",
    "beta = 1\n",
    "if inp == '1D':\n",
    "    s = 0.1\n",
    "else:\n",
    "    s = 5\n",
    "    \n",
    "eta = 0.01\n",
    "iterations = 0\n",
    "c=0\n",
    "N = train_size #no of rows or examples in training set\n",
    "I = np.identity(N)\n",
    "\n",
    "if(kernel == 'linear'):\n",
    "    K = (np.dot(phi_train,phi_train.T)+1)\n",
    "elif(kernel == 'RBF'):\n",
    "    K = get_RBF_Kernel(phi_train,phi_train,s)\n",
    "    \n",
    "alpha_new = []\n",
    "beta_new = []\n",
    "s_new = []\n",
    "\n",
    "C_N = (I/beta) + (K/alpha)\n",
    "log_Ev_before = -(0.5*N*np.log(2*np.pi)) - 0.5*(np.log(np.linalg.det(C_N))) - 0.5*(np.dot(np.dot(t_train.T,np.linalg.inv(C_N)),t_train))\n",
    "#print(log_Ev_before)\n",
    "#print(\"kernel is :\",K)\n",
    "\n",
    "for i in range(1,101):\n",
    "        \n",
    "    a = np.log(alpha)\n",
    "    del_C_N_by_del_alpha = -(K/(alpha**2))\n",
    "    del_log_Ev_by_del_alpha = -0.5*(np.trace(np.dot(np.linalg.inv(C_N),del_C_N_by_del_alpha))) + 0.5*(np.dot(np.dot(np.dot(np.dot(t_train.T,np.linalg.inv(C_N)),del_C_N_by_del_alpha),np.linalg.inv(C_N)),t_train))\n",
    "    a = a + eta*del_log_Ev_by_del_alpha*alpha\n",
    "    alpha = np.exp(a).item()\n",
    "    \n",
    "    b = np.log(beta)\n",
    "    del_C_N_by_del_beta = -(I/(beta**2))\n",
    "    del_log_Ev_by_del_beta = -0.5*(np.trace(np.dot(np.linalg.inv(C_N),del_C_N_by_del_beta))) + 0.5*(np.dot(np.dot(np.dot(np.dot(t_train.T,np.linalg.inv(C_N)),del_C_N_by_del_beta),np.linalg.inv(C_N)),t_train))\n",
    "    b = b + eta*del_log_Ev_by_del_beta*beta\n",
    "    beta = np.exp(b).item()\n",
    "    \n",
    "\n",
    "    if (kernel == 'RBF'):\n",
    "\n",
    "        del_C_N_by_del_s = np.zeros([N,N])\n",
    "        for i in range(N):\n",
    "            for j in range(N):\n",
    "                xi_xj_norm = np.linalg.norm(phi_train[i]-phi_train[j])**2\n",
    "                k_intermediate = np.exp(-0.5*xi_xj_norm/(s**2))\n",
    "                del_C_N_by_del_s[i,j] = (k_intermediate*xi_xj_norm)/(s**3)\n",
    "\n",
    "        del_log_Ev_by_del_s = -0.5*(np.trace(np.dot(np.linalg.inv(C_N),del_C_N_by_del_s))) + 0.5*(np.dot(np.dot(np.dot(np.dot(t_train.T,np.linalg.inv(C_N)),del_C_N_by_del_s),np.linalg.inv(C_N)),t_train))\n",
    "        ln_s = np.log(s)\n",
    "        ln_s = ln_s + eta * del_log_Ev_by_del_s * s\n",
    "        s = np.exp(ln_s).item()\n",
    "\n",
    "\n",
    "        K = get_RBF_Kernel(phi_train,phi_train,s)\n",
    "        \n",
    "    \n",
    "    C_N_updated = (I/beta) + (K/alpha)\n",
    "\n",
    "    log_Ev_after = -(0.5*N*np.log(2*np.pi)) - 0.5*(np.log(np.linalg.det(C_N_updated))) - 0.5*(np.dot(np.dot(t_train.T,np.linalg.inv(C_N_updated)),t_train))\n",
    "    \n",
    "    convergence = (log_Ev_after-log_Ev_before)/abs(log_Ev_before)\n",
    "    #print('convergence:',convergence)\n",
    "    alpha_new.append(alpha)\n",
    "    beta_new.append(beta)\n",
    "    iterations = iterations+1\n",
    "    \n",
    "    \n",
    "        \n",
    "    \n",
    "    \n",
    "    \n",
    "    if convergence <= math.pow(10,-5):\n",
    "        break\n",
    "        \n",
    "    log_Ev_before = log_Ev_after\n",
    "    C_N = C_N_updated\n",
    "    \n",
    "print(iterations)\n",
    "#print(alpha_new,beta_new,iterations+1)\n",
    "#alpha = alpha_new[iterations-2]\n",
    "#beta = beta_new[iterations-2]\n",
    "print(alpha,alpha_new[iterations-1])\n",
    "print(beta,beta_new[iterations-1])\n",
    "print(\"Finalized Alpha parameter : \",alpha)\n",
    "print(\"Finalized Beta parameter : \",beta)\n"
   ]
  },
  {
   "cell_type": "code",
   "execution_count": 460,
   "id": "527e0ee8",
   "metadata": {},
   "outputs": [
    {
     "data": {
      "text/plain": [
       "100"
      ]
     },
     "execution_count": 460,
     "metadata": {},
     "output_type": "execute_result"
    }
   ],
   "source": [
    "iterations"
   ]
  },
  {
   "cell_type": "code",
   "execution_count": null,
   "id": "1f25a37e",
   "metadata": {},
   "outputs": [],
   "source": [
    "'''\n",
    "del_C_N_by_del_s = np.zeros([N,N])\n",
    "for i in range(N):\n",
    "    for j in range(N):\n",
    "        xi_xj_norm = np.linalg.norm(phi_train[i]-phi_train[j])**2\n",
    "        k_intermediate = np.exp(-0.5*xi_xj_norm/(s**2))\n",
    "        del_C_N_by_del_s[i,j] = (k_intermediate*xi_xj_norm)/(s**3)\n",
    "\n",
    "del_log_Ev_by_del_s = -0.5*(np.trace(np.dot(np.linalg.inv(C_N),del_C_N_by_del_s))) + 0.5*(np.dot(np.dot(np.dot(np.dot(t_train.T,np.linalg.inv(C_N)),del_C_N_by_del_s),np.linalg.inv(C_N)),t_train))\n",
    "ln_s = np.log(s)\n",
    "ln_s = ln_s + eta * del_log_Ev_by_del_s * s\n",
    "s = np.exp(ln_s).item()\n",
    "    \n",
    "    \n",
    "    if (kernel == 'RBF'):\n",
    "        \n",
    "        del_C_N_by_del_s = np.zeros([N,N])\n",
    "        for i in range(N):\n",
    "            for j in range(N):\n",
    "                xi_xj_norm = np.linalg.norm(phi_train[i]-phi_train[j])**2\n",
    "                k_intermediate = np.exp(-0.5*xi_xj_norm/(s**2))\n",
    "                del_C_N_by_del_s[i,j] = (k_intermediate*xi_xj_norm)/(s**3)\n",
    "    \n",
    "        del_log_Ev_by_del_s = -0.5*(np.trace(np.dot(np.linalg.inv(C_N),del_C_N_by_del_s))) + 0.5*(np.dot(np.dot(np.dot(np.dot(t_train.T,np.linalg.inv(C_N)),del_C_N_by_del_s),np.linalg.inv(C_N)),t_train))\n",
    "        ln_s = np.log(s)\n",
    "        ln_s = ln_s + eta * del_log_Ev_by_del_s * s\n",
    "        s = np.exp(ln_s).item()\n",
    "        \n",
    "        \n",
    "        K = get_RBF_Kernel(N,phi_train,s)\n",
    "'''"
   ]
  },
  {
   "cell_type": "code",
   "execution_count": null,
   "id": "52350f9f",
   "metadata": {},
   "outputs": [],
   "source": [
    "'''\n",
    "def compute_vt_test(X1, X2, alpha, s, kernel_type):\n",
    "    # X1 is train and X2 is test\n",
    "\n",
    "    kernel_mat = np.empty([len(X1),len(X2)])\n",
    "    if(kernel_type == 'L'):\n",
    "        for i in range(len(X1)):\n",
    "            for j in range(len(X2)):\n",
    "                kernel_mat[i,j] = np.dot(X1[i].T,X2[j])+1\n",
    "        cov_matrix = (1/alpha) * kernel_mat\n",
    "    elif(kernel_type == 'R'):\n",
    "        kernel_mat = compute_rbf(X1, X2, s)\n",
    "        cov_matrix = (1/alpha) * kernel_mat\n",
    "    print(\"shape of test vt matrix is: \", cov_matrix.shape)\n",
    "    return cov_matrix\n",
    "\n",
    "\n",
    "def compute_small_c_for_test(X1,X2,alpha, s,beta, kernel_type):\n",
    "    if(kernel_type == 'L'):\n",
    "        kernel_val = compute_linear_kernel(X1,X2)\n",
    "    elif (kernel_type == 'R'):\n",
    "        kernel_val = compute_rbf(X1, X2, s)\n",
    "    identity_mat = np.identity(kernel_val.shape[0]) / beta\n",
    "    term_two = kernel_val / alpha\n",
    "    cov_matrix = term_two + identity_mat\n",
    "    c = np.diag(cov_matrix)\n",
    "    print(\"small c value is: \", c.shape)\n",
    "    return c\n",
    "'''"
   ]
  },
  {
   "cell_type": "code",
   "execution_count": 402,
   "id": "668236e6",
   "metadata": {},
   "outputs": [
    {
     "data": {
      "text/plain": [
       "(21.243840386171964, 3.995795447235537)"
      ]
     },
     "execution_count": 402,
     "metadata": {},
     "output_type": "execute_result"
    }
   ],
   "source": [
    "alpha,beta"
   ]
  },
  {
   "cell_type": "code",
   "execution_count": 461,
   "id": "233e6383",
   "metadata": {},
   "outputs": [
    {
     "data": {
      "text/plain": [
       "60"
      ]
     },
     "execution_count": 461,
     "metadata": {},
     "output_type": "execute_result"
    }
   ],
   "source": [
    "N_test = len(phi_test)\n",
    "N_test"
   ]
  },
  {
   "cell_type": "code",
   "execution_count": 462,
   "id": "fbfbe88c",
   "metadata": {},
   "outputs": [],
   "source": [
    "if(kernel == 'linear'):\n",
    "    K_test = (np.dot(phi_test,phi_test.T)+1)\n",
    "elif(kernel == 'RBF'):\n",
    "    K_test = get_RBF_Kernel(phi_test,phi_test,s)"
   ]
  },
  {
   "cell_type": "code",
   "execution_count": 463,
   "id": "09edc566",
   "metadata": {},
   "outputs": [],
   "source": [
    "I_test = np.identity(N_test)\n",
    "cov = (I_test/beta) + (K_test/alpha)\n",
    "c = np.diag(cov)"
   ]
  },
  {
   "cell_type": "code",
   "execution_count": 464,
   "id": "d2c7a58e",
   "metadata": {},
   "outputs": [
    {
     "data": {
      "text/plain": [
       "(60,)"
      ]
     },
     "execution_count": 464,
     "metadata": {},
     "output_type": "execute_result"
    }
   ],
   "source": [
    "c.shape"
   ]
  },
  {
   "cell_type": "code",
   "execution_count": 407,
   "id": "99b7b20a",
   "metadata": {},
   "outputs": [],
   "source": [
    "'''\n",
    "cc =[]\n",
    "for p in range(N_test):\n",
    "    c1 = 1/beta + K_test[p][p]/alpha\n",
    "    cc.append(c1)\n",
    "'''"
   ]
  },
  {
   "cell_type": "code",
   "execution_count": 465,
   "id": "37283f0c",
   "metadata": {},
   "outputs": [
    {
     "data": {
      "text/plain": [
       "(30, 60)"
      ]
     },
     "execution_count": 465,
     "metadata": {},
     "output_type": "execute_result"
    }
   ],
   "source": [
    "K_Vt = (np.dot(phi_train,phi_test.T)+1)\n",
    "K_Vt.shape"
   ]
  },
  {
   "cell_type": "code",
   "execution_count": 466,
   "id": "6f11c926",
   "metadata": {},
   "outputs": [
    {
     "name": "stdout",
     "output_type": "stream",
     "text": [
      "shape of test vt matrix is:  (30, 60)\n"
     ]
    }
   ],
   "source": [
    "K_Vt = np.zeros([len(phi_train),len(phi_test)])\n",
    "if(kernel == 'linear'):\n",
    "    K_Vt = (np.dot(phi_train,phi_test.T)+1)\n",
    "elif(kernel == 'RBF'):\n",
    "    K_Vt = get_RBF_Kernel(phi_train, phi_test, s)\n",
    "V = (1/alpha) * K_Vt\n",
    "print(\"shape of test vt matrix is: \", V.shape)"
   ]
  },
  {
   "cell_type": "code",
   "execution_count": 467,
   "id": "af639256",
   "metadata": {},
   "outputs": [
    {
     "data": {
      "text/plain": [
       "((60,), (30, 60), (30, 30), (30, 1), (60, 1), (60, 1))"
      ]
     },
     "execution_count": 467,
     "metadata": {},
     "output_type": "execute_result"
    }
   ],
   "source": [
    "c.shape,V.shape,C_N_updated.shape,t_train.shape,phi_test.shape,t_test.shape"
   ]
  },
  {
   "cell_type": "code",
   "execution_count": 468,
   "id": "eebdc76d",
   "metadata": {},
   "outputs": [
    {
     "data": {
      "text/plain": [
       "(60, 1)"
      ]
     },
     "execution_count": 468,
     "metadata": {},
     "output_type": "execute_result"
    }
   ],
   "source": [
    "Mean = np.dot(np.dot(np.transpose(V),np.linalg.inv(C_N_updated)),t_train)\n",
    "Mean.shape"
   ]
  },
  {
   "cell_type": "code",
   "execution_count": 469,
   "id": "695119f4",
   "metadata": {},
   "outputs": [
    {
     "data": {
      "text/plain": [
       "(60, 1)"
      ]
     },
     "execution_count": 469,
     "metadata": {},
     "output_type": "execute_result"
    }
   ],
   "source": [
    "phi_test.shape"
   ]
  },
  {
   "cell_type": "code",
   "execution_count": 470,
   "id": "936c5c0d",
   "metadata": {},
   "outputs": [
    {
     "data": {
      "text/plain": [
       "(60,)"
      ]
     },
     "execution_count": 470,
     "metadata": {},
     "output_type": "execute_result"
    }
   ],
   "source": [
    "Var = np.diag(c - np.dot(np.dot(np.transpose(V),np.linalg.inv(C_N_updated)),V))\n",
    "Var.shape"
   ]
  },
  {
   "cell_type": "code",
   "execution_count": 304,
   "id": "31cbe41a",
   "metadata": {
    "collapsed": true
   },
   "outputs": [
    {
     "data": {
      "text/plain": [
       "array([0.57916286, 0.57602291, 0.57300092, 0.57009689, 0.56731081,\n",
       "       0.5646427 , 0.56209255, 0.55966035, 0.55734612, 0.55514984,\n",
       "       0.55307153, 0.55111118, 0.54926878, 0.54754435, 0.54593787,\n",
       "       0.54444935, 0.5430788 , 0.5418262 , 0.54069156, 0.53967489,\n",
       "       0.53877617, 0.53799541, 0.53733261, 0.53678778, 0.5363609 ,\n",
       "       0.53605198, 0.53586102, 0.53578802, 0.53583298, 0.5359959 ,\n",
       "       0.53627678, 0.53667562, 0.53719242, 0.53782718, 0.5385799 ,\n",
       "       0.53945057, 0.54043921, 0.54154581, 0.54277037, 0.54411288,\n",
       "       0.54557336, 0.5471518 , 0.54884819, 0.55066255, 0.55259486,\n",
       "       0.55464514, 0.55681337, 0.55909957, 0.56150372, 0.56402584,\n",
       "       0.56666591, 0.56942394, 0.57229994, 0.57529389, 0.5784058 ,\n",
       "       0.58163567, 0.5849835 , 0.5884493 , 0.59203305, 0.59573476])"
      ]
     },
     "execution_count": 304,
     "metadata": {},
     "output_type": "execute_result"
    }
   ],
   "source": [
    "Var"
   ]
  },
  {
   "cell_type": "code",
   "execution_count": 471,
   "id": "7433876b",
   "metadata": {},
   "outputs": [
    {
     "data": {
      "text/plain": [
       "0.411394169817588"
      ]
     },
     "execution_count": 471,
     "metadata": {},
     "output_type": "execute_result"
    }
   ],
   "source": [
    "MSE = np.mean(np.square(Mean - t_test))\n",
    "MSE"
   ]
  },
  {
   "cell_type": "code",
   "execution_count": 472,
   "id": "c399a862",
   "metadata": {},
   "outputs": [],
   "source": [
    "NLL = []\n",
    "for i in range(N_test):\n",
    "    l = 1/(np.sqrt(2*np.pi*Var[i])) * np.exp(-0.5*((t_test[i]-Mean[i])**2)/Var[i])\n",
    "    nl = -np.log(l)\n",
    "    NLL.append(nl.item())"
   ]
  },
  {
   "cell_type": "code",
   "execution_count": 416,
   "id": "f7f00492",
   "metadata": {
    "collapsed": true
   },
   "outputs": [
    {
     "data": {
      "text/plain": [
       "array([[1.4164243 , 1.43785513, 1.42980034, ..., 1.41156263, 1.39148608,\n",
       "        1.39868276],\n",
       "       [0.58002625, 0.574376  , 0.57642483, ..., 0.58140033, 0.58747523,\n",
       "        0.58522039],\n",
       "       [0.65072973, 0.64736873, 0.64856347, ..., 0.65157669, 0.65544092,\n",
       "        0.65398504],\n",
       "       ...,\n",
       "       [0.27196395, 0.25633919, 0.26210939, ..., 0.27563479, 0.29134179,\n",
       "        0.28560576],\n",
       "       [0.33904858, 0.3255959 , 0.33055572, ..., 0.34221927, 0.35582875,\n",
       "        0.3508508 ],\n",
       "       [0.39552737, 0.38390337, 0.38818093, ..., 0.39827698, 0.41012056,\n",
       "        0.40578083]])"
      ]
     },
     "execution_count": 416,
     "metadata": {},
     "output_type": "execute_result"
    }
   ],
   "source": [
    "#nll = -np.log(1/(np.sqrt(2*np.pi*Var)) * np.exp(-0.5*((t_test-Mean)**2)/Var))\n",
    "#nll"
   ]
  },
  {
   "cell_type": "code",
   "execution_count": 417,
   "id": "ea2b8f0a",
   "metadata": {
    "collapsed": true
   },
   "outputs": [
    {
     "data": {
      "text/plain": [
       "array([ 1.4164243 ,  0.574376  ,  0.64856347,  1.44641051,  0.30075871,\n",
       "        1.04928605,  0.43800574,  0.94963696,  0.62279235,  0.28691361,\n",
       "        0.25715603,  0.29026878,  0.35819799,  0.46806205,  0.28991185,\n",
       "        0.25898797,  0.26311725,  0.25744462,  0.29375812,  0.25602229,\n",
       "        0.26177967,  0.56977127,  0.45443714,  0.33462051,  0.28973695,\n",
       "        0.47077302,  0.4564253 ,  0.26954225,  0.37221665,  0.38030704,\n",
       "        0.29202599,  0.29520504,  0.4153839 ,  0.59175624,  0.32397253,\n",
       "        0.41164947,  0.26375175,  0.50941833,  0.3260298 ,  0.40465174,\n",
       "        0.80854919,  0.32196367,  0.34158541,  0.35895755,  0.25543863,\n",
       "        0.32863344,  1.26961163,  0.27750897,  0.35791127,  0.31253648,\n",
       "        0.28220725,  0.39049878,  0.38794057,  0.47875427,  0.509048  ,\n",
       "        0.48444098,  0.27265737,  0.4549627 ,  0.25591973,  0.47368655,\n",
       "        0.31704669,  0.40485107,  0.33294725,  0.27568618,  0.70237077,\n",
       "        1.5029598 ,  0.94407941,  1.14828045,  0.61469513,  0.38368038,\n",
       "        0.68730594,  0.30095489,  0.77005915,  0.4404605 ,  1.64053888,\n",
       "        0.26776641,  0.42564961,  0.27272446,  0.37358747,  0.31025555,\n",
       "        0.26527274,  0.30588042,  0.27639337,  0.27925632,  0.25920022,\n",
       "        0.69163557,  0.49446046,  1.4965006 ,  0.52174265,  0.49763649,\n",
       "        0.92336448,  0.29716234,  0.45349323,  0.60970618,  0.38708123,\n",
       "        0.59581081,  0.67429524,  0.66699106,  0.39410202,  0.29605797,\n",
       "        0.30780459,  0.37268363,  0.78793171,  0.54119313,  0.40378692,\n",
       "        0.45647086,  0.28352388,  0.28467383,  0.45119641,  0.33377153,\n",
       "        2.50005358,  0.62326125,  0.52432033,  0.37116759,  0.32314304,\n",
       "        0.86826697,  1.38430194,  0.32236633,  0.35445873,  0.38515348,\n",
       "        1.20002992,  0.43562654,  1.12574445,  2.23096722,  0.54061817,\n",
       "        0.34847288,  1.19409027,  4.97071598,  1.56853658,  0.32612803,\n",
       "        0.29573306,  4.70776918,  0.31006305,  0.34403368,  0.52974571,\n",
       "        0.7604916 ,  0.32159766,  1.15432761,  0.86752228,  0.40893968,\n",
       "        0.93757285,  0.37486396,  0.65088947,  0.89572584,  1.59827021,\n",
       "        0.329523  ,  0.58997201,  4.61744091,  0.41423635,  0.60820577,\n",
       "        0.27947035,  0.70832768,  0.3097785 ,  0.35789929,  0.44483039,\n",
       "        0.56057313,  0.32521719,  0.36763172,  1.04591606,  0.80101806,\n",
       "        1.65126835,  1.79711073,  0.24991342,  0.61533453,  0.37343298,\n",
       "        0.33506291,  0.51514856,  0.5121306 ,  0.42759124,  0.25030792,\n",
       "        0.89018458,  0.29676917,  0.88339827,  1.91251147,  0.95194288,\n",
       "        1.39361091,  0.25106276,  2.734215  ,  0.28676315,  0.27047061,\n",
       "        2.75660222,  0.28235973,  0.31150935,  0.64616757,  3.07593143,\n",
       "        0.93396621,  0.36622932,  1.59118427,  0.29397079,  0.98946675,\n",
       "        1.0426498 ,  1.10499391,  0.76339191,  0.47420805,  0.80109706,\n",
       "        0.26677772,  0.42685056,  0.2803234 ,  0.30477082,  0.53256623,\n",
       "        3.17488501,  0.46723235,  0.3813496 ,  1.58510214,  1.39627257,\n",
       "        0.30312212,  0.7831221 ,  1.03989976,  0.56485966,  0.30403785,\n",
       "        1.16027367,  0.3244139 ,  2.04018578,  1.34775124,  0.29362163,\n",
       "        0.33904647,  0.50976974,  0.82930856,  0.269144  ,  0.59907704,\n",
       "        0.54538448,  0.26985247,  0.2731352 ,  1.28584848,  0.26529405,\n",
       "        0.53154284,  0.67926124,  0.31104061,  1.2742595 ,  0.31532186,\n",
       "        0.66529534,  0.49845836,  0.79419538,  0.42162505,  0.47496793,\n",
       "        0.27927357,  0.28267618,  1.64444822,  0.64573311,  1.31068817,\n",
       "        1.57731673,  0.51687325,  0.2573892 ,  0.5095193 ,  0.35345029,\n",
       "        0.30482244,  0.57714396,  0.86443411,  0.49505978,  0.50683504,\n",
       "        0.7268476 ,  0.55647535,  0.29090776,  0.76002858,  0.24975367,\n",
       "        0.24706311,  0.27624787,  0.25571954,  0.28962429,  0.34202258,\n",
       "        0.45507727,  0.30849832,  0.25593357,  0.28604364,  0.30094896,\n",
       "        0.91886857,  0.8124275 ,  0.88488267,  0.70137145,  0.84934962,\n",
       "        0.27617488,  0.32089371,  0.26798243,  0.29999682,  0.30502243,\n",
       "        0.36267683,  0.4384214 ,  0.28057441,  2.01485958,  0.66708687,\n",
       "        0.34596766,  0.42074337,  0.50793575,  0.43590009,  0.28332654,\n",
       "        0.32951134,  0.81617012,  0.50014289,  0.54170481,  0.55126981,\n",
       "        0.40469495,  0.43181936,  0.28583855,  0.41354705,  1.03765348,\n",
       "        5.18405778,  0.98843709,  2.85958728, 14.01462987,  5.31658545,\n",
       "       14.63942212,  9.80548749,  1.0665058 ,  2.76433015,  0.59633136,\n",
       "        0.41656917,  1.21738995,  1.47969988,  0.31254084,  0.63106711,\n",
       "        0.3522242 ,  0.54233837,  0.29520253,  0.4049024 ,  0.49884464,\n",
       "        0.38678165,  0.88753464,  1.1521976 ,  0.86023716,  1.37104418,\n",
       "        1.32757962,  1.75230712,  0.36780602,  0.99305788,  1.18274139,\n",
       "        2.72392766,  1.12600218,  0.75258774,  0.44037012,  1.73170239,\n",
       "        0.28927516,  4.33818933,  2.24544273,  0.50617229,  1.19943371,\n",
       "        0.42020322,  0.64715101,  1.26024004,  0.41536831,  0.35447416,\n",
       "        0.60405914,  1.25877685,  0.64016793,  0.67869281,  0.63614722,\n",
       "        0.78488235,  0.9542211 ,  0.49036045,  0.68620989,  0.28109732,\n",
       "        0.30912827,  0.28388492,  0.39199202,  0.26811466,  0.42392629,\n",
       "        0.29725136,  0.30214169,  0.46181989,  0.94009177,  0.54447986,\n",
       "        0.71104428,  0.6796544 ,  0.43255879,  0.30551298,  0.40298066,\n",
       "        0.30784205,  0.29009917,  0.41922501,  0.29563581,  0.45113266,\n",
       "        0.42237927,  0.27166339,  0.36298207,  0.27721666,  0.29747702,\n",
       "        0.2881663 ,  0.27514693,  0.26938036,  0.66774481,  0.48202621,\n",
       "        0.54102732,  0.63124077,  0.26170495,  0.75366657,  0.28631757,\n",
       "        0.49058342,  0.49286604,  0.29220741,  0.28126372,  0.33258898,\n",
       "        0.28807845,  0.30919151,  0.51820976,  0.53759713,  0.69319497,\n",
       "        0.43181516,  0.7077271 ,  0.31783948,  0.26392943,  0.68951635,\n",
       "        0.26933091,  0.27563479,  0.35582875,  0.40578083])"
      ]
     },
     "execution_count": 417,
     "metadata": {},
     "output_type": "execute_result"
    }
   ],
   "source": [
    "#np.diag(nll)"
   ]
  },
  {
   "cell_type": "code",
   "execution_count": 473,
   "id": "25f1c177",
   "metadata": {
    "collapsed": true
   },
   "outputs": [
    {
     "data": {
      "text/plain": [
       "[0.6732158515959883,\n",
       " 0.6607460956739255,\n",
       " 0.6504666910117562,\n",
       " 0.6424172914000736,\n",
       " 0.6366356452272448,\n",
       " 0.6331574689990486,\n",
       " 0.6320163233891242,\n",
       " 0.6332434924534397,\n",
       " 0.6368678666488454,\n",
       " 0.6429158302963454,\n",
       " 0.651411154127181,\n",
       " 0.6623748935406784,\n",
       " 0.6758252931893404,\n",
       " 0.6917776984880665,\n",
       " 0.7102444746198512,\n",
       " 1.6395768899601095,\n",
       " 2.58471846363821,\n",
       " 2.8915524585871277,\n",
       " 2.249844440122985,\n",
       " 1.2234204497203045,\n",
       " 0.6420881739690708,\n",
       " 0.7177893372302335,\n",
       " 0.9446426909753847,\n",
       " 0.8521861715508948,\n",
       " 0.6205964146907831,\n",
       " 0.7791282424154705,\n",
       " 1.41074311851509,\n",
       " 1.9304521323938668,\n",
       " 1.763947958160723,\n",
       " 1.078053415167609,\n",
       " 0.6187254730534548,\n",
       " 0.8314057485115189,\n",
       " 1.3503779056159126,\n",
       " 1.4841683033322493,\n",
       " 1.0742917380953212,\n",
       " 0.6507442350477736,\n",
       " 0.7177318558756484,\n",
       " 1.10796037395037,\n",
       " 1.2354102556873396,\n",
       " 0.9056218215628451,\n",
       " 0.6170253115670106,\n",
       " 0.9385171290840767,\n",
       " 1.7423968546370627,\n",
       " 2.277783564714103,\n",
       " 2.019469393611821,\n",
       " 0.9237362944201187,\n",
       " 0.8888142271106331,\n",
       " 0.8564941668560946,\n",
       " 0.8267659570923701,\n",
       " 0.7996164132849499,\n",
       " 0.7750294133576008,\n",
       " 0.7529859948678482,\n",
       " 0.7334644583035298,\n",
       " 0.7164404758620588,\n",
       " 0.7018872050668545,\n",
       " 0.6897754065723226,\n",
       " 0.6800735655118864,\n",
       " 0.6727480157495843,\n",
       " 0.6677630664077755,\n",
       " 0.6650811300577196]"
      ]
     },
     "execution_count": 473,
     "metadata": {},
     "output_type": "execute_result"
    }
   ],
   "source": [
    "NLL"
   ]
  },
  {
   "cell_type": "code",
   "execution_count": 474,
   "id": "00c92751",
   "metadata": {},
   "outputs": [
    {
     "data": {
      "text/plain": [
       "1.0014060363771102"
      ]
     },
     "execution_count": 474,
     "metadata": {},
     "output_type": "execute_result"
    }
   ],
   "source": [
    "MNLL = np.mean(NLL)\n",
    "MNLL"
   ]
  },
  {
   "cell_type": "code",
   "execution_count": 451,
   "id": "d5e1589f",
   "metadata": {},
   "outputs": [
    {
     "data": {
      "text/plain": [
       "60"
      ]
     },
     "execution_count": 451,
     "metadata": {},
     "output_type": "execute_result"
    }
   ],
   "source": [
    "len(NLL)"
   ]
  },
  {
   "cell_type": "code",
   "execution_count": 476,
   "id": "b8be117f",
   "metadata": {},
   "outputs": [
    {
     "data": {
      "text/plain": [
       "100"
      ]
     },
     "execution_count": 476,
     "metadata": {},
     "output_type": "execute_result"
    }
   ],
   "source": [
    "iterations"
   ]
  },
  {
   "cell_type": "code",
   "execution_count": 477,
   "id": "95e6f8b3",
   "metadata": {},
   "outputs": [
    {
     "name": "stdout",
     "output_type": "stream",
     "text": [
      "0.6732158515959883\n",
      "0.651411154127181\n",
      "0.6420881739690708\n",
      "0.6187254730534548\n",
      "0.6170253115670106\n",
      "0.7750294133576008\n"
     ]
    },
    {
     "ename": "IndexError",
     "evalue": "list index out of range",
     "output_type": "error",
     "traceback": [
      "\u001b[0;31m---------------------------------------------------------------------------\u001b[0m",
      "\u001b[0;31mIndexError\u001b[0m                                Traceback (most recent call last)",
      "\u001b[0;32m<ipython-input-477-a6a040866ca0>\u001b[0m in \u001b[0;36m<module>\u001b[0;34m\u001b[0m\n\u001b[1;32m      1\u001b[0m \u001b[0;32mfor\u001b[0m \u001b[0mx\u001b[0m \u001b[0;32min\u001b[0m \u001b[0mrange\u001b[0m\u001b[0;34m(\u001b[0m\u001b[0;36m0\u001b[0m\u001b[0;34m,\u001b[0m\u001b[0miterations\u001b[0m\u001b[0;34m,\u001b[0m\u001b[0;36m10\u001b[0m\u001b[0;34m)\u001b[0m\u001b[0;34m:\u001b[0m\u001b[0;34m\u001b[0m\u001b[0;34m\u001b[0m\u001b[0m\n\u001b[0;32m----> 2\u001b[0;31m     \u001b[0mprint\u001b[0m\u001b[0;34m(\u001b[0m\u001b[0mNLL\u001b[0m\u001b[0;34m[\u001b[0m\u001b[0mx\u001b[0m\u001b[0;34m]\u001b[0m\u001b[0;34m)\u001b[0m\u001b[0;34m\u001b[0m\u001b[0;34m\u001b[0m\u001b[0m\n\u001b[0m",
      "\u001b[0;31mIndexError\u001b[0m: list index out of range"
     ]
    }
   ],
   "source": [
    "for x in range(0,iterations,10):\n",
    "    print(NLL[x])"
   ]
  },
  {
   "cell_type": "code",
   "execution_count": null,
   "id": "1ce2d2c8",
   "metadata": {},
   "outputs": [],
   "source": []
  }
 ],
 "metadata": {
  "kernelspec": {
   "display_name": "Python 3",
   "language": "python",
   "name": "python3"
  },
  "language_info": {
   "codemirror_mode": {
    "name": "ipython",
    "version": 3
   },
   "file_extension": ".py",
   "mimetype": "text/x-python",
   "name": "python",
   "nbconvert_exporter": "python",
   "pygments_lexer": "ipython3",
   "version": "3.8.8"
  }
 },
 "nbformat": 4,
 "nbformat_minor": 5
}
